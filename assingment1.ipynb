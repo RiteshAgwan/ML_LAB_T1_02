{
 "cells": [
  {
   "cell_type": "markdown",
   "metadata": {},
   "source": []
  },
  {
   "cell_type": "code",
   "execution_count": 1,
   "metadata": {},
   "outputs": [],
   "source": [
    "import pandas as pd\n",
    "import numpy as np"
   ]
  },
  {
   "cell_type": "code",
   "execution_count": 9,
   "metadata": {},
   "outputs": [
    {
     "data": {
      "text/html": [
       "<div>\n",
       "<style scoped>\n",
       "    .dataframe tbody tr th:only-of-type {\n",
       "        vertical-align: middle;\n",
       "    }\n",
       "\n",
       "    .dataframe tbody tr th {\n",
       "        vertical-align: top;\n",
       "    }\n",
       "\n",
       "    .dataframe thead th {\n",
       "        text-align: right;\n",
       "    }\n",
       "</style>\n",
       "<table border=\"1\" class=\"dataframe\">\n",
       "  <thead>\n",
       "    <tr style=\"text-align: right;\">\n",
       "      <th></th>\n",
       "      <th>week</th>\n",
       "      <th>category</th>\n",
       "      <th>weekly_rank</th>\n",
       "      <th>show_title</th>\n",
       "      <th>season_title</th>\n",
       "      <th>weekly_hours_viewed</th>\n",
       "      <th>runtime</th>\n",
       "      <th>weekly_views</th>\n",
       "      <th>cumulative_weeks_in_top_10</th>\n",
       "      <th>is_staggered_launch</th>\n",
       "      <th>episode_launch_details</th>\n",
       "    </tr>\n",
       "  </thead>\n",
       "  <tbody>\n",
       "    <tr>\n",
       "      <th>0</th>\n",
       "      <td>2024-01-07</td>\n",
       "      <td>Films (English)</td>\n",
       "      <td>1</td>\n",
       "      <td>The Equalizer 3</td>\n",
       "      <td>NaN</td>\n",
       "      <td>26800000</td>\n",
       "      <td>1.8167</td>\n",
       "      <td>14800000.0</td>\n",
       "      <td>1</td>\n",
       "      <td>False</td>\n",
       "      <td>NaN</td>\n",
       "    </tr>\n",
       "    <tr>\n",
       "      <th>1</th>\n",
       "      <td>2024-01-07</td>\n",
       "      <td>Films (English)</td>\n",
       "      <td>2</td>\n",
       "      <td>Rebel Moon ? Part One: A Child of Fire</td>\n",
       "      <td>NaN</td>\n",
       "      <td>25100000</td>\n",
       "      <td>2.2667</td>\n",
       "      <td>11100000.0</td>\n",
       "      <td>3</td>\n",
       "      <td>False</td>\n",
       "      <td>NaN</td>\n",
       "    </tr>\n",
       "    <tr>\n",
       "      <th>2</th>\n",
       "      <td>2024-01-07</td>\n",
       "      <td>Films (English)</td>\n",
       "      <td>3</td>\n",
       "      <td>Leave the World Behind</td>\n",
       "      <td>NaN</td>\n",
       "      <td>18700000</td>\n",
       "      <td>2.3667</td>\n",
       "      <td>7900000.0</td>\n",
       "      <td>5</td>\n",
       "      <td>False</td>\n",
       "      <td>NaN</td>\n",
       "    </tr>\n",
       "    <tr>\n",
       "      <th>3</th>\n",
       "      <td>2024-01-07</td>\n",
       "      <td>Films (English)</td>\n",
       "      <td>4</td>\n",
       "      <td>Exodus: Gods and Kings</td>\n",
       "      <td>NaN</td>\n",
       "      <td>18600000</td>\n",
       "      <td>2.5000</td>\n",
       "      <td>7400000.0</td>\n",
       "      <td>1</td>\n",
       "      <td>False</td>\n",
       "      <td>NaN</td>\n",
       "    </tr>\n",
       "    <tr>\n",
       "      <th>4</th>\n",
       "      <td>2024-01-07</td>\n",
       "      <td>Films (English)</td>\n",
       "      <td>5</td>\n",
       "      <td>Aquaman</td>\n",
       "      <td>NaN</td>\n",
       "      <td>16800000</td>\n",
       "      <td>2.3833</td>\n",
       "      <td>7000000.0</td>\n",
       "      <td>1</td>\n",
       "      <td>False</td>\n",
       "      <td>NaN</td>\n",
       "    </tr>\n",
       "  </tbody>\n",
       "</table>\n",
       "</div>"
      ],
      "text/plain": [
       "         week         category  weekly_rank  \\\n",
       "0  2024-01-07  Films (English)            1   \n",
       "1  2024-01-07  Films (English)            2   \n",
       "2  2024-01-07  Films (English)            3   \n",
       "3  2024-01-07  Films (English)            4   \n",
       "4  2024-01-07  Films (English)            5   \n",
       "\n",
       "                               show_title season_title  weekly_hours_viewed  \\\n",
       "0                         The Equalizer 3          NaN             26800000   \n",
       "1  Rebel Moon ? Part One: A Child of Fire          NaN             25100000   \n",
       "2                  Leave the World Behind          NaN             18700000   \n",
       "3                  Exodus: Gods and Kings          NaN             18600000   \n",
       "4                                 Aquaman          NaN             16800000   \n",
       "\n",
       "   runtime  weekly_views  cumulative_weeks_in_top_10  is_staggered_launch  \\\n",
       "0   1.8167    14800000.0                           1                False   \n",
       "1   2.2667    11100000.0                           3                False   \n",
       "2   2.3667     7900000.0                           5                False   \n",
       "3   2.5000     7400000.0                           1                False   \n",
       "4   2.3833     7000000.0                           1                False   \n",
       "\n",
       "  episode_launch_details  \n",
       "0                    NaN  \n",
       "1                    NaN  \n",
       "2                    NaN  \n",
       "3                    NaN  \n",
       "4                    NaN  "
      ]
     },
     "execution_count": 9,
     "metadata": {},
     "output_type": "execute_result"
    }
   ],
   "source": [
    "df = pd.read_csv('dataset/rit.csv',encoding='latin1')\n",
    "df.head()"
   ]
  },
  {
   "cell_type": "code",
   "execution_count": 10,
   "metadata": {},
   "outputs": [
    {
     "data": {
      "text/plain": [
       "False"
      ]
     },
     "execution_count": 10,
     "metadata": {},
     "output_type": "execute_result"
    }
   ],
   "source": [
    "df['weekly_rank'].is_unique"
   ]
  },
  {
   "cell_type": "code",
   "execution_count": 11,
   "metadata": {},
   "outputs": [
    {
     "data": {
      "text/plain": [
       "False"
      ]
     },
     "execution_count": 11,
     "metadata": {},
     "output_type": "execute_result"
    }
   ],
   "source": [
    "df['weekly_hours_viewed'].is_unique"
   ]
  },
  {
   "cell_type": "code",
   "execution_count": 12,
   "metadata": {},
   "outputs": [
    {
     "data": {
      "text/plain": [
       "week                               2023-12-03\n",
       "category                      Films (English)\n",
       "weekly_rank                                 7\n",
       "show_title                         The Killer\n",
       "season_title                              NaN\n",
       "weekly_hours_viewed                   7100000\n",
       "runtime                                   2.0\n",
       "weekly_views                        3600000.0\n",
       "cumulative_weeks_in_top_10                  4\n",
       "is_staggered_launch                     False\n",
       "episode_launch_details                    NaN\n",
       "Name: 206, dtype: object"
      ]
     },
     "execution_count": 12,
     "metadata": {},
     "output_type": "execute_result"
    }
   ],
   "source": [
    "df.loc[206]"
   ]
  },
  {
   "cell_type": "code",
   "execution_count": 13,
   "metadata": {},
   "outputs": [],
   "source": [
    "df.set_index('weekly_rank', inplace=True)"
   ]
  },
  {
   "cell_type": "code",
   "execution_count": 15,
   "metadata": {},
   "outputs": [
    {
     "data": {
      "text/plain": [
       "object     5\n",
       "int64      2\n",
       "float64    2\n",
       "bool       1\n",
       "Name: count, dtype: int64"
      ]
     },
     "execution_count": 15,
     "metadata": {},
     "output_type": "execute_result"
    }
   ],
   "source": [
    "df.dtypes.value_counts()"
   ]
  },
  {
   "cell_type": "code",
   "execution_count": 16,
   "metadata": {},
   "outputs": [],
   "source": [
    "to_drop=['weekly_rank']"
   ]
  },
  {
   "cell_type": "code",
   "execution_count": 17,
   "metadata": {},
   "outputs": [
    {
     "data": {
      "text/html": [
       "<div>\n",
       "<style scoped>\n",
       "    .dataframe tbody tr th:only-of-type {\n",
       "        vertical-align: middle;\n",
       "    }\n",
       "\n",
       "    .dataframe tbody tr th {\n",
       "        vertical-align: top;\n",
       "    }\n",
       "\n",
       "    .dataframe thead th {\n",
       "        text-align: right;\n",
       "    }\n",
       "</style>\n",
       "<table border=\"1\" class=\"dataframe\">\n",
       "  <thead>\n",
       "    <tr style=\"text-align: right;\">\n",
       "      <th></th>\n",
       "      <th>week</th>\n",
       "      <th>category</th>\n",
       "      <th>show_title</th>\n",
       "      <th>season_title</th>\n",
       "      <th>weekly_hours_viewed</th>\n",
       "      <th>runtime</th>\n",
       "      <th>weekly_views</th>\n",
       "      <th>cumulative_weeks_in_top_10</th>\n",
       "      <th>is_staggered_launch</th>\n",
       "      <th>episode_launch_details</th>\n",
       "    </tr>\n",
       "    <tr>\n",
       "      <th>weekly_rank</th>\n",
       "      <th></th>\n",
       "      <th></th>\n",
       "      <th></th>\n",
       "      <th></th>\n",
       "      <th></th>\n",
       "      <th></th>\n",
       "      <th></th>\n",
       "      <th></th>\n",
       "      <th></th>\n",
       "      <th></th>\n",
       "    </tr>\n",
       "  </thead>\n",
       "  <tbody>\n",
       "    <tr>\n",
       "      <th>1</th>\n",
       "      <td>2024-01-07</td>\n",
       "      <td>Films (English)</td>\n",
       "      <td>The Equalizer 3</td>\n",
       "      <td>NaN</td>\n",
       "      <td>26800000</td>\n",
       "      <td>1.8167</td>\n",
       "      <td>14800000.0</td>\n",
       "      <td>1</td>\n",
       "      <td>False</td>\n",
       "      <td>NaN</td>\n",
       "    </tr>\n",
       "    <tr>\n",
       "      <th>2</th>\n",
       "      <td>2024-01-07</td>\n",
       "      <td>Films (English)</td>\n",
       "      <td>Rebel Moon ? Part One: A Child of Fire</td>\n",
       "      <td>NaN</td>\n",
       "      <td>25100000</td>\n",
       "      <td>2.2667</td>\n",
       "      <td>11100000.0</td>\n",
       "      <td>3</td>\n",
       "      <td>False</td>\n",
       "      <td>NaN</td>\n",
       "    </tr>\n",
       "    <tr>\n",
       "      <th>3</th>\n",
       "      <td>2024-01-07</td>\n",
       "      <td>Films (English)</td>\n",
       "      <td>Leave the World Behind</td>\n",
       "      <td>NaN</td>\n",
       "      <td>18700000</td>\n",
       "      <td>2.3667</td>\n",
       "      <td>7900000.0</td>\n",
       "      <td>5</td>\n",
       "      <td>False</td>\n",
       "      <td>NaN</td>\n",
       "    </tr>\n",
       "    <tr>\n",
       "      <th>4</th>\n",
       "      <td>2024-01-07</td>\n",
       "      <td>Films (English)</td>\n",
       "      <td>Exodus: Gods and Kings</td>\n",
       "      <td>NaN</td>\n",
       "      <td>18600000</td>\n",
       "      <td>2.5000</td>\n",
       "      <td>7400000.0</td>\n",
       "      <td>1</td>\n",
       "      <td>False</td>\n",
       "      <td>NaN</td>\n",
       "    </tr>\n",
       "    <tr>\n",
       "      <th>5</th>\n",
       "      <td>2024-01-07</td>\n",
       "      <td>Films (English)</td>\n",
       "      <td>Aquaman</td>\n",
       "      <td>NaN</td>\n",
       "      <td>16800000</td>\n",
       "      <td>2.3833</td>\n",
       "      <td>7000000.0</td>\n",
       "      <td>1</td>\n",
       "      <td>False</td>\n",
       "      <td>NaN</td>\n",
       "    </tr>\n",
       "  </tbody>\n",
       "</table>\n",
       "</div>"
      ],
      "text/plain": [
       "                   week         category  \\\n",
       "weekly_rank                                \n",
       "1            2024-01-07  Films (English)   \n",
       "2            2024-01-07  Films (English)   \n",
       "3            2024-01-07  Films (English)   \n",
       "4            2024-01-07  Films (English)   \n",
       "5            2024-01-07  Films (English)   \n",
       "\n",
       "                                         show_title season_title  \\\n",
       "weekly_rank                                                        \n",
       "1                                   The Equalizer 3          NaN   \n",
       "2            Rebel Moon ? Part One: A Child of Fire          NaN   \n",
       "3                            Leave the World Behind          NaN   \n",
       "4                            Exodus: Gods and Kings          NaN   \n",
       "5                                           Aquaman          NaN   \n",
       "\n",
       "             weekly_hours_viewed  runtime  weekly_views  \\\n",
       "weekly_rank                                               \n",
       "1                       26800000   1.8167    14800000.0   \n",
       "2                       25100000   2.2667    11100000.0   \n",
       "3                       18700000   2.3667     7900000.0   \n",
       "4                       18600000   2.5000     7400000.0   \n",
       "5                       16800000   2.3833     7000000.0   \n",
       "\n",
       "             cumulative_weeks_in_top_10  is_staggered_launch  \\\n",
       "weekly_rank                                                    \n",
       "1                                     1                False   \n",
       "2                                     3                False   \n",
       "3                                     5                False   \n",
       "4                                     1                False   \n",
       "5                                     1                False   \n",
       "\n",
       "            episode_launch_details  \n",
       "weekly_rank                         \n",
       "1                              NaN  \n",
       "2                              NaN  \n",
       "3                              NaN  \n",
       "4                              NaN  \n",
       "5                              NaN  "
      ]
     },
     "execution_count": 17,
     "metadata": {},
     "output_type": "execute_result"
    }
   ],
   "source": [
    "df.head()"
   ]
  },
  {
   "cell_type": "code",
   "execution_count": null,
   "metadata": {},
   "outputs": [],
   "source": []
  }
 ],
 "metadata": {
  "kernelspec": {
   "display_name": "base",
   "language": "python",
   "name": "python3"
  },
  "language_info": {
   "codemirror_mode": {
    "name": "ipython",
    "version": 3
   },
   "file_extension": ".py",
   "mimetype": "text/x-python",
   "name": "python",
   "nbconvert_exporter": "python",
   "pygments_lexer": "ipython3",
   "version": "3.10.13"
  }
 },
 "nbformat": 4,
 "nbformat_minor": 2
}
